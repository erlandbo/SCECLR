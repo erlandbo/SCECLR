{
 "cells": [
  {
   "cell_type": "code",
   "execution_count": 1,
   "id": "initial_id",
   "metadata": {
    "is_executing": true
   },
   "outputs": [
    {
     "name": "stderr",
     "output_type": "stream",
     "text": [
      "/home/erlandbo/anaconda3/envs/ffcv-ssl/lib/python3.9/site-packages/tqdm/auto.py:21: TqdmWarning: IProgress not found. Please update jupyter and ipywidgets. See https://ipywidgets.readthedocs.io/en/stable/user_install.html\n",
      "  from .autonotebook import tqdm as notebook_tqdm\n"
     ]
    }
   ],
   "source": [
    "import torch\n",
    "from data_utils import dataset_x\n",
    "from data import Augmentation, SSLImageDataset\n",
    "from torch.utils.data import DataLoader\n",
    "from matplotlib import pyplot as plt\n",
    "import torchvision\n",
    "from torchvision import transforms\n",
    "\n",
    "from ffcv.loader import OrderOption\n",
    "import ffcv\n",
    "from ffcv_ssl import DivideImageBy255"
   ]
  },
  {
   "cell_type": "code",
   "execution_count": 2,
   "id": "ada066fdea28301",
   "metadata": {
    "collapsed": false,
    "jupyter": {
     "outputs_hidden": false
    }
   },
   "outputs": [],
   "source": [
    "basedataset = \"imagenette\"\n",
    "use_ffcv = True\n",
    "batchsize = 8\n",
    "numworkers = 10"
   ]
  },
  {
   "cell_type": "code",
   "execution_count": 3,
   "id": "011c4660-74dd-4110-8fd3-167ff17d8e58",
   "metadata": {},
   "outputs": [],
   "source": [
    "\n",
    "\n",
    "\n",
    "def build_ffcv_nonsslloader(write_path, imgsize, mean, std, batchsize, numworkers, mode=\"train\"):\n",
    "    image_pipeline1 = [\n",
    "        ffcv.fields.rgb_image.SimpleRGBImageDecoder(),\n",
    "        #ffcv.fields.rgb_image.CenterCropRGBImageDecoder(output_size=imgsize, ratio=160/160),\n",
    "        ffcv.transforms.ops.ToTensor(),\n",
    "        #ToDevice(torch.device('cuda:0'), non_blocking=True),\n",
    "        ffcv.transforms.ops.ToTorchImage(convert_back_int16=False),\n",
    "        DivideImageBy255(torch.float32),\n",
    "        torchvision.transforms.Normalize(mean, std)\n",
    "        #ffcv.transforms.normalize.NormalizeImage(mean=np.array(mean)*255.0, std=np.array(std)*255.0, type=np.float32)\n",
    "    ]\n",
    "\n",
    "    label_pipeline = [\n",
    "        ffcv.fields.basics.IntDecoder(),\n",
    "        ffcv.transforms.ops.ToTensor(),\n",
    "        ffcv.transforms.common.Squeeze(1),\n",
    "        #ToDevice(torch.device('cuda:0'), non_blocking=True),  # not int on gpu\n",
    "    ]\n",
    "\n",
    "    loader = ffcv.loader.Loader(\n",
    "        write_path,\n",
    "        num_workers=numworkers,\n",
    "        batch_size=batchsize,\n",
    "        pipelines={\n",
    "            \"image\": image_pipeline1,\n",
    "            \"label\": label_pipeline,\n",
    "        },\n",
    "        order=OrderOption.RANDOM if mode == 'train' else OrderOption.SEQUENTIAL,\n",
    "        drop_last=False,\n",
    "        os_cache=True,\n",
    "        seed=42\n",
    "    )\n",
    "    return loader"
   ]
  },
  {
   "cell_type": "code",
   "execution_count": 4,
   "id": "fcf8a8f41b56d1c1",
   "metadata": {
    "collapsed": false,
    "jupyter": {
     "outputs_hidden": false
    },
    "scrolled": true
   },
   "outputs": [
    {
     "name": "stdout",
     "output_type": "stream",
     "text": [
      "160 160\n",
      "36 31\n"
     ]
    },
    {
     "ename": "TypeError",
     "evalue": "SimpleRGBImageDecoder ony supports constant image,\nconsider RandomResizedCropRGBImageDecoder or CenterCropRGBImageDecoder\ninstead.",
     "output_type": "error",
     "traceback": [
      "\u001b[0;31m---------------------------------------------------------------------------\u001b[0m",
      "\u001b[0;31mTypeError\u001b[0m                                 Traceback (most recent call last)",
      "Cell \u001b[0;32mIn[4], line 11\u001b[0m\n\u001b[1;32m      8\u001b[0m     testloader \u001b[38;5;241m=\u001b[39m DataLoader(test_dataset, batch_size\u001b[38;5;241m=\u001b[39mbatchsize, num_workers\u001b[38;5;241m=\u001b[39mnumworkers, shuffle\u001b[38;5;241m=\u001b[39m\u001b[38;5;28;01mFalse\u001b[39;00m, pin_memory\u001b[38;5;241m=\u001b[39m\u001b[38;5;28;01mTrue\u001b[39;00m, drop_last\u001b[38;5;241m=\u001b[39m\u001b[38;5;28;01mFalse\u001b[39;00m)\n\u001b[1;32m      9\u001b[0m \u001b[38;5;28;01melse\u001b[39;00m:\n\u001b[0;32m---> 11\u001b[0m     trainloader \u001b[38;5;241m=\u001b[39m \u001b[43mbuild_ffcv_nonsslloader\u001b[49m\u001b[43m(\u001b[49m\n\u001b[1;32m     12\u001b[0m \u001b[43m        \u001b[49m\u001b[43mwrite_path\u001b[49m\u001b[38;5;241;43m=\u001b[39;49m\u001b[38;5;124;43mf\u001b[39;49m\u001b[38;5;124;43m\"\u001b[39;49m\u001b[38;5;124;43moutput/\u001b[39;49m\u001b[38;5;132;43;01m{\u001b[39;49;00m\u001b[43mbasedataset\u001b[49m\u001b[38;5;132;43;01m}\u001b[39;49;00m\u001b[38;5;124;43m/trainds.beton\u001b[39;49m\u001b[38;5;124;43m\"\u001b[39;49m\u001b[43m,\u001b[49m\n\u001b[1;32m     13\u001b[0m \u001b[43m        \u001b[49m\u001b[43mmean\u001b[49m\u001b[38;5;241;43m=\u001b[39;49m\u001b[43mmean\u001b[49m\u001b[43m,\u001b[49m\n\u001b[1;32m     14\u001b[0m \u001b[43m        \u001b[49m\u001b[43mstd\u001b[49m\u001b[38;5;241;43m=\u001b[39;49m\u001b[43mstd\u001b[49m\u001b[43m,\u001b[49m\n\u001b[1;32m     15\u001b[0m \u001b[43m        \u001b[49m\u001b[43mimgsize\u001b[49m\u001b[38;5;241;43m=\u001b[39;49m\u001b[43mimgsize\u001b[49m\u001b[43m,\u001b[49m\n\u001b[1;32m     16\u001b[0m \u001b[43m        \u001b[49m\u001b[43mbatchsize\u001b[49m\u001b[38;5;241;43m=\u001b[39;49m\u001b[43mbatchsize\u001b[49m\u001b[43m,\u001b[49m\n\u001b[1;32m     17\u001b[0m \u001b[43m        \u001b[49m\u001b[43mnumworkers\u001b[49m\u001b[38;5;241;43m=\u001b[39;49m\u001b[43mnumworkers\u001b[49m\u001b[43m,\u001b[49m\n\u001b[1;32m     18\u001b[0m \u001b[43m        \u001b[49m\u001b[43mmode\u001b[49m\u001b[38;5;241;43m=\u001b[39;49m\u001b[38;5;124;43m\"\u001b[39;49m\u001b[38;5;124;43mtest\u001b[39;49m\u001b[38;5;124;43m\"\u001b[39;49m\n\u001b[1;32m     19\u001b[0m \u001b[43m    \u001b[49m\u001b[43m)\u001b[49m\n\u001b[1;32m     20\u001b[0m     testloader \u001b[38;5;241m=\u001b[39m build_ffcv_nonsslloader(\n\u001b[1;32m     21\u001b[0m         write_path\u001b[38;5;241m=\u001b[39m\u001b[38;5;124mf\u001b[39m\u001b[38;5;124m\"\u001b[39m\u001b[38;5;124moutput/\u001b[39m\u001b[38;5;132;01m{\u001b[39;00mbasedataset\u001b[38;5;132;01m}\u001b[39;00m\u001b[38;5;124m/testds.beton\u001b[39m\u001b[38;5;124m\"\u001b[39m,\n\u001b[1;32m     22\u001b[0m         mean\u001b[38;5;241m=\u001b[39mmean,\n\u001b[0;32m   (...)\u001b[0m\n\u001b[1;32m     27\u001b[0m         mode\u001b[38;5;241m=\u001b[39m\u001b[38;5;124m\"\u001b[39m\u001b[38;5;124mtest\u001b[39m\u001b[38;5;124m\"\u001b[39m\n\u001b[1;32m     28\u001b[0m     )\n",
      "Cell \u001b[0;32mIn[3], line 20\u001b[0m, in \u001b[0;36mbuild_ffcv_nonsslloader\u001b[0;34m(write_path, imgsize, mean, std, batchsize, numworkers, mode)\u001b[0m\n\u001b[1;32m      2\u001b[0m image_pipeline1 \u001b[38;5;241m=\u001b[39m [\n\u001b[1;32m      3\u001b[0m     ffcv\u001b[38;5;241m.\u001b[39mfields\u001b[38;5;241m.\u001b[39mrgb_image\u001b[38;5;241m.\u001b[39mSimpleRGBImageDecoder(),\n\u001b[1;32m      4\u001b[0m     \u001b[38;5;66;03m#ffcv.fields.rgb_image.CenterCropRGBImageDecoder(output_size=imgsize, ratio=160/160),\u001b[39;00m\n\u001b[0;32m   (...)\u001b[0m\n\u001b[1;32m     10\u001b[0m     \u001b[38;5;66;03m#ffcv.transforms.normalize.NormalizeImage(mean=np.array(mean)*255.0, std=np.array(std)*255.0, type=np.float32)\u001b[39;00m\n\u001b[1;32m     11\u001b[0m ]\n\u001b[1;32m     13\u001b[0m label_pipeline \u001b[38;5;241m=\u001b[39m [\n\u001b[1;32m     14\u001b[0m     ffcv\u001b[38;5;241m.\u001b[39mfields\u001b[38;5;241m.\u001b[39mbasics\u001b[38;5;241m.\u001b[39mIntDecoder(),\n\u001b[1;32m     15\u001b[0m     ffcv\u001b[38;5;241m.\u001b[39mtransforms\u001b[38;5;241m.\u001b[39mops\u001b[38;5;241m.\u001b[39mToTensor(),\n\u001b[1;32m     16\u001b[0m     ffcv\u001b[38;5;241m.\u001b[39mtransforms\u001b[38;5;241m.\u001b[39mcommon\u001b[38;5;241m.\u001b[39mSqueeze(\u001b[38;5;241m1\u001b[39m),\n\u001b[1;32m     17\u001b[0m     \u001b[38;5;66;03m#ToDevice(torch.device('cuda:0'), non_blocking=True),  # not int on gpu\u001b[39;00m\n\u001b[1;32m     18\u001b[0m ]\n\u001b[0;32m---> 20\u001b[0m loader \u001b[38;5;241m=\u001b[39m \u001b[43mffcv\u001b[49m\u001b[38;5;241;43m.\u001b[39;49m\u001b[43mloader\u001b[49m\u001b[38;5;241;43m.\u001b[39;49m\u001b[43mLoader\u001b[49m\u001b[43m(\u001b[49m\n\u001b[1;32m     21\u001b[0m \u001b[43m    \u001b[49m\u001b[43mwrite_path\u001b[49m\u001b[43m,\u001b[49m\n\u001b[1;32m     22\u001b[0m \u001b[43m    \u001b[49m\u001b[43mnum_workers\u001b[49m\u001b[38;5;241;43m=\u001b[39;49m\u001b[43mnumworkers\u001b[49m\u001b[43m,\u001b[49m\n\u001b[1;32m     23\u001b[0m \u001b[43m    \u001b[49m\u001b[43mbatch_size\u001b[49m\u001b[38;5;241;43m=\u001b[39;49m\u001b[43mbatchsize\u001b[49m\u001b[43m,\u001b[49m\n\u001b[1;32m     24\u001b[0m \u001b[43m    \u001b[49m\u001b[43mpipelines\u001b[49m\u001b[38;5;241;43m=\u001b[39;49m\u001b[43m{\u001b[49m\n\u001b[1;32m     25\u001b[0m \u001b[43m        \u001b[49m\u001b[38;5;124;43m\"\u001b[39;49m\u001b[38;5;124;43mimage\u001b[39;49m\u001b[38;5;124;43m\"\u001b[39;49m\u001b[43m:\u001b[49m\u001b[43m \u001b[49m\u001b[43mimage_pipeline1\u001b[49m\u001b[43m,\u001b[49m\n\u001b[1;32m     26\u001b[0m \u001b[43m        \u001b[49m\u001b[38;5;124;43m\"\u001b[39;49m\u001b[38;5;124;43mlabel\u001b[39;49m\u001b[38;5;124;43m\"\u001b[39;49m\u001b[43m:\u001b[49m\u001b[43m \u001b[49m\u001b[43mlabel_pipeline\u001b[49m\u001b[43m,\u001b[49m\n\u001b[1;32m     27\u001b[0m \u001b[43m    \u001b[49m\u001b[43m}\u001b[49m\u001b[43m,\u001b[49m\n\u001b[1;32m     28\u001b[0m \u001b[43m    \u001b[49m\u001b[43morder\u001b[49m\u001b[38;5;241;43m=\u001b[39;49m\u001b[43mOrderOption\u001b[49m\u001b[38;5;241;43m.\u001b[39;49m\u001b[43mRANDOM\u001b[49m\u001b[43m \u001b[49m\u001b[38;5;28;43;01mif\u001b[39;49;00m\u001b[43m \u001b[49m\u001b[43mmode\u001b[49m\u001b[43m \u001b[49m\u001b[38;5;241;43m==\u001b[39;49m\u001b[43m \u001b[49m\u001b[38;5;124;43m'\u001b[39;49m\u001b[38;5;124;43mtrain\u001b[39;49m\u001b[38;5;124;43m'\u001b[39;49m\u001b[43m \u001b[49m\u001b[38;5;28;43;01melse\u001b[39;49;00m\u001b[43m \u001b[49m\u001b[43mOrderOption\u001b[49m\u001b[38;5;241;43m.\u001b[39;49m\u001b[43mSEQUENTIAL\u001b[49m\u001b[43m,\u001b[49m\n\u001b[1;32m     29\u001b[0m \u001b[43m    \u001b[49m\u001b[43mdrop_last\u001b[49m\u001b[38;5;241;43m=\u001b[39;49m\u001b[38;5;28;43;01mFalse\u001b[39;49;00m\u001b[43m,\u001b[49m\n\u001b[1;32m     30\u001b[0m \u001b[43m    \u001b[49m\u001b[43mos_cache\u001b[49m\u001b[38;5;241;43m=\u001b[39;49m\u001b[38;5;28;43;01mTrue\u001b[39;49;00m\u001b[43m,\u001b[49m\n\u001b[1;32m     31\u001b[0m \u001b[43m    \u001b[49m\u001b[43mseed\u001b[49m\u001b[38;5;241;43m=\u001b[39;49m\u001b[38;5;241;43m42\u001b[39;49m\n\u001b[1;32m     32\u001b[0m \u001b[43m\u001b[49m\u001b[43m)\u001b[49m\n\u001b[1;32m     33\u001b[0m \u001b[38;5;28;01mreturn\u001b[39;00m loader\n",
      "File \u001b[0;32m~/repo/FFCV-SSL/ffcv/loader/loader.py:196\u001b[0m, in \u001b[0;36mLoader.__init__\u001b[0;34m(self, path, batch_size, order, num_workers, os_cache, distributed, seed, indices, pipelines, custom_fields, drop_last, batches_ahead, recompile, custom_field_mapper)\u001b[0m\n\u001b[1;32m    191\u001b[0m     operations[i]\u001b[38;5;241m.\u001b[39maccept_field(field)\n\u001b[1;32m    192\u001b[0m     operations[i]\u001b[38;5;241m.\u001b[39maccept_globals(\n\u001b[1;32m    193\u001b[0m         \u001b[38;5;28mself\u001b[39m\u001b[38;5;241m.\u001b[39mreader\u001b[38;5;241m.\u001b[39mmetadata[\u001b[38;5;124mf\u001b[39m\u001b[38;5;124m\"\u001b[39m\u001b[38;5;124mf\u001b[39m\u001b[38;5;132;01m{\u001b[39;00mf_ix\u001b[38;5;132;01m}\u001b[39;00m\u001b[38;5;124m\"\u001b[39m], memory_read\n\u001b[1;32m    194\u001b[0m     )\n\u001b[0;32m--> 196\u001b[0m \u001b[38;5;28mself\u001b[39m\u001b[38;5;241m.\u001b[39mpipelines[field_name] \u001b[38;5;241m=\u001b[39m \u001b[43mPipeline\u001b[49m\u001b[43m(\u001b[49m\u001b[43moperations\u001b[49m\u001b[43m)\u001b[49m\n",
      "File \u001b[0;32m~/repo/FFCV-SSL/ffcv/pipeline/pipeline.py:25\u001b[0m, in \u001b[0;36mPipeline.__init__\u001b[0;34m(self, operations)\u001b[0m\n\u001b[1;32m     18\u001b[0m \u001b[38;5;28mself\u001b[39m\u001b[38;5;241m.\u001b[39moriginal_state \u001b[38;5;241m=\u001b[39m State(jit_mode\u001b[38;5;241m=\u001b[39m\u001b[38;5;28;01mTrue\u001b[39;00m,\n\u001b[1;32m     19\u001b[0m                             device\u001b[38;5;241m=\u001b[39mch\u001b[38;5;241m.\u001b[39mdevice(\u001b[38;5;124m'\u001b[39m\u001b[38;5;124mcpu\u001b[39m\u001b[38;5;124m'\u001b[39m),\n\u001b[1;32m     20\u001b[0m                             dtype\u001b[38;5;241m=\u001b[39mnp\u001b[38;5;241m.\u001b[39mdtype(\u001b[38;5;124m'\u001b[39m\u001b[38;5;124mu1\u001b[39m\u001b[38;5;124m'\u001b[39m),\n\u001b[1;32m     21\u001b[0m                             shape\u001b[38;5;241m=\u001b[39m\u001b[38;5;28;01mNone\u001b[39;00m)\n\u001b[1;32m     23\u001b[0m \u001b[38;5;28mself\u001b[39m\u001b[38;5;241m.\u001b[39moperations \u001b[38;5;241m=\u001b[39m operations\n\u001b[0;32m---> 25\u001b[0m \u001b[38;5;28mself\u001b[39m\u001b[38;5;241m.\u001b[39moperation_blocks, _ \u001b[38;5;241m=\u001b[39m \u001b[38;5;28;43mself\u001b[39;49m\u001b[38;5;241;43m.\u001b[39;49m\u001b[43mparse_pipeline\u001b[49m\u001b[43m(\u001b[49m\u001b[43m)\u001b[49m\n\u001b[1;32m     26\u001b[0m \u001b[38;5;28mself\u001b[39m\u001b[38;5;241m.\u001b[39mcompiled_ops \u001b[38;5;241m=\u001b[39m \u001b[38;5;28mself\u001b[39m\u001b[38;5;241m.\u001b[39mcompile_ops()\n\u001b[1;32m     28\u001b[0m \u001b[38;5;66;03m# Compile the pipeline\u001b[39;00m\n",
      "File \u001b[0;32m~/repo/FFCV-SSL/ffcv/pipeline/pipeline.py:42\u001b[0m, in \u001b[0;36mPipeline.parse_pipeline\u001b[0;34m(self, batch_size)\u001b[0m\n\u001b[1;32m     40\u001b[0m \u001b[38;5;28;01mfor\u001b[39;00m op_id, operation \u001b[38;5;129;01min\u001b[39;00m \u001b[38;5;28menumerate\u001b[39m(\u001b[38;5;28mself\u001b[39m\u001b[38;5;241m.\u001b[39moperations):\n\u001b[1;32m     41\u001b[0m     previous_state \u001b[38;5;241m=\u001b[39m current_state\n\u001b[0;32m---> 42\u001b[0m     current_state, memory_allocation \u001b[38;5;241m=\u001b[39m \u001b[43moperation\u001b[49m\u001b[38;5;241;43m.\u001b[39;49m\u001b[43mdeclare_state_and_memory\u001b[49m\u001b[43m(\u001b[49m\n\u001b[1;32m     43\u001b[0m \u001b[43m        \u001b[49m\u001b[43mcurrent_state\u001b[49m\u001b[43m)\u001b[49m\n\u001b[1;32m     45\u001b[0m     \u001b[38;5;28;01mif\u001b[39;00m current_state\u001b[38;5;241m.\u001b[39mjit_mode \u001b[38;5;241m!=\u001b[39m previous_state\u001b[38;5;241m.\u001b[39mjit_mode:\n\u001b[1;32m     46\u001b[0m         \u001b[38;5;28;01mif\u001b[39;00m current_block:\n",
      "File \u001b[0;32m~/repo/FFCV-SSL/ffcv/fields/rgb_image.py:106\u001b[0m, in \u001b[0;36mSimpleRGBImageDecoder.declare_state_and_memory\u001b[0;34m(self, previous_state)\u001b[0m\n\u001b[1;32m    102\u001b[0m         \u001b[38;5;28;01mif\u001b[39;00m min_width \u001b[38;5;241m!=\u001b[39m max_width \u001b[38;5;129;01mor\u001b[39;00m max_height \u001b[38;5;241m!=\u001b[39m min_height:\n\u001b[1;32m    103\u001b[0m             msg \u001b[38;5;241m=\u001b[39m \u001b[38;5;124m\"\"\"\u001b[39m\u001b[38;5;124mSimpleRGBImageDecoder ony supports constant image,\u001b[39m\n\u001b[1;32m    104\u001b[0m \u001b[38;5;124mconsider RandomResizedCropRGBImageDecoder or CenterCropRGBImageDecoder\u001b[39m\n\u001b[1;32m    105\u001b[0m \u001b[38;5;124minstead.\u001b[39m\u001b[38;5;124m\"\"\"\u001b[39m\n\u001b[0;32m--> 106\u001b[0m             \u001b[38;5;28;01mraise\u001b[39;00m \u001b[38;5;167;01mTypeError\u001b[39;00m(msg)\n\u001b[1;32m    108\u001b[0m         biggest_shape \u001b[38;5;241m=\u001b[39m (max_height, max_width, \u001b[38;5;241m3\u001b[39m)\n\u001b[1;32m    109\u001b[0m         my_dtype \u001b[38;5;241m=\u001b[39m np\u001b[38;5;241m.\u001b[39mdtype(\u001b[38;5;124m'\u001b[39m\u001b[38;5;124m<u1\u001b[39m\u001b[38;5;124m'\u001b[39m)\n",
      "\u001b[0;31mTypeError\u001b[0m: SimpleRGBImageDecoder ony supports constant image,\nconsider RandomResizedCropRGBImageDecoder or CenterCropRGBImageDecoder\ninstead."
     ]
    }
   ],
   "source": [
    "train_dataset, test_dataset, num_classes , imgsize, mean, std = dataset_x(basedataset)\n",
    "mean, std = [0.5, 0.5, 0.5], [0.5, 0.5, 0.5]\n",
    "if not use_ffcv:\n",
    "\n",
    "    test_augmentation = Augmentation(imgsize, mean, std, mode=\"test\", num_views=1)\n",
    "    train_dataset.transform = test_dataset.transform = test_augmentation\n",
    "    trainloader = DataLoader(train_dataset, batch_size=batchsize, num_workers=numworkers,shuffle=False, pin_memory=True, drop_last=False)\n",
    "    testloader = DataLoader(test_dataset, batch_size=batchsize, num_workers=numworkers, shuffle=False, pin_memory=True, drop_last=False)\n",
    "else:\n",
    "\n",
    "    trainloader = build_ffcv_nonsslloader(\n",
    "        write_path=f\"output/{basedataset}/trainds.beton\",\n",
    "        mean=mean,\n",
    "        std=std,\n",
    "        imgsize=imgsize,\n",
    "        batchsize=batchsize,\n",
    "        numworkers=numworkers,\n",
    "        mode=\"test\"\n",
    "    )\n",
    "    testloader = build_ffcv_nonsslloader(\n",
    "        write_path=f\"output/{basedataset}/testds.beton\",\n",
    "        mean=mean,\n",
    "        std=std,\n",
    "        imgsize=imgsize,\n",
    "        batchsize=batchsize,\n",
    "        numworkers=numworkers,\n",
    "        mode=\"test\"\n",
    "    )"
   ]
  },
  {
   "cell_type": "code",
   "execution_count": null,
   "id": "cb28ba003440742",
   "metadata": {
    "collapsed": false,
    "jupyter": {
     "outputs_hidden": false
    }
   },
   "outputs": [],
   "source": [
    "plaindataset = torchvision.datasets.Imagenette(\n",
    "        root=\"./data\",\n",
    "        split=\"train\",\n",
    "        transform=transforms.Compose([\n",
    "            #transforms.Resize((160, 160)),\n",
    "            transforms.ToTensor(),\n",
    "            transforms.Normalize([0.5, 0.5, 0.5], [0.5, 0.5, 0.5])\n",
    "        ]),\n",
    "        download=False,\n",
    "        size=\"160px\",\n",
    "    )\n",
    "\n",
    "vizdataloader = DataLoader(plaindataset, batch_size=batchsize, shuffle=False)\n"
   ]
  },
  {
   "cell_type": "code",
   "execution_count": null,
   "id": "a26cc9fc-5e3c-4b15-9858-e220746aae6c",
   "metadata": {},
   "outputs": [],
   "source": [
    "len(next(iter(trainloader)))"
   ]
  },
  {
   "cell_type": "code",
   "execution_count": null,
   "id": "1c54b5c3-abbe-42f0-be64-497acfe52870",
   "metadata": {},
   "outputs": [],
   "source": [
    "imgs_aug1, y = next(iter(trainloader))\n"
   ]
  },
  {
   "cell_type": "code",
   "execution_count": null,
   "id": "03b23de8-0ce0-443d-89f2-207da5bb4c63",
   "metadata": {},
   "outputs": [],
   "source": [
    "imgs_orig, labels = next(iter(vizdataloader))"
   ]
  },
  {
   "cell_type": "code",
   "execution_count": null,
   "id": "7677bb03-1886-443d-8ff7-b50477afcc68",
   "metadata": {},
   "outputs": [],
   "source": [
    "labels"
   ]
  },
  {
   "cell_type": "code",
   "execution_count": null,
   "id": "2dc7abd0-ce83-421c-8627-352afcecdf2e",
   "metadata": {},
   "outputs": [],
   "source": [
    "imgs_orig.shape"
   ]
  },
  {
   "cell_type": "code",
   "execution_count": null,
   "id": "65f7f0c39062c373",
   "metadata": {
    "collapsed": false,
    "jupyter": {
     "outputs_hidden": false
    }
   },
   "outputs": [],
   "source": [
    "\n",
    "label2name = [\n",
    "    \"airplane\",\n",
    "    \"automobile\",\n",
    "    \"bird\",\n",
    "    \"cat\",\n",
    "    \"deer\",\n",
    "    \"dog\",\n",
    "    \"frog\",\n",
    "    \"horse\",\n",
    "    \"ship\",\n",
    "    \"truck\"\n",
    "]\n",
    "\n",
    "def plot_imgs(imgs_orig, imgs_aug1, labels):\n",
    "    maximg = min(4, imgs_orig.shape[0])\n",
    "    imgs_orig, imgs_aug1, labels = imgs_orig[:maximg], imgs_aug1[:maximg], labels[:maximg]\n",
    "    fig, ax = plt.subplots(maximg, 2, figsize=(25, 25))\n",
    "    for i, (img_orig, img_aug1) in enumerate(zip(imgs_orig, imgs_aug1)):\n",
    "        ax[i, 0].imshow(img_orig.permute(1,2,0) * 0.5 + 0.5)\n",
    "        ax[i, 1].imshow(img_aug1.permute(1,2,0) * 0.5 + 0.5)\n",
    "        \n",
    "        ax[i, 0].set_title(\"Original \" + label2name[int(labels[i])], fontsize=16, pad=5)\n",
    "        ax[i, 1].set_title(\"Augmented \" + label2name[int(labels[i])] + \" 1\", fontsize=16, pad=5)\n",
    "        \n",
    "    plt.tight_layout()\n",
    "    fig.show()"
   ]
  },
  {
   "cell_type": "code",
   "execution_count": null,
   "id": "1db62b7ce4879bda",
   "metadata": {
    "collapsed": false,
    "jupyter": {
     "outputs_hidden": false
    }
   },
   "outputs": [],
   "source": [
    "plot_imgs(imgs_orig, imgs_aug1, labels)"
   ]
  },
  {
   "cell_type": "code",
   "execution_count": null,
   "id": "3476015e1da20f83",
   "metadata": {
    "collapsed": false,
    "jupyter": {
     "outputs_hidden": false
    }
   },
   "outputs": [],
   "source": [
    "plot_imgs(imgs_orig, imgs_aug1, labels)"
   ]
  }
 ],
 "metadata": {
  "kernelspec": {
   "display_name": "Python 3 (ipykernel)",
   "language": "python",
   "name": "python3"
  },
  "language_info": {
   "codemirror_mode": {
    "name": "ipython",
    "version": 3
   },
   "file_extension": ".py",
   "mimetype": "text/x-python",
   "name": "python",
   "nbconvert_exporter": "python",
   "pygments_lexer": "ipython3",
   "version": "3.9.18"
  }
 },
 "nbformat": 4,
 "nbformat_minor": 5
}
